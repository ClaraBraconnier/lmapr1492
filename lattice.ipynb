{
 "cells": [
  {
   "cell_type": "code",
   "execution_count": 3,
   "metadata": {},
   "outputs": [
    {
     "name": "stdout",
     "output_type": "stream",
     "text": [
      "Full Formula (Na1 Sm1 O2)\n",
      "Reduced Formula: NaSmO2\n",
      "abc   :   3.533249   5.973791   3.533250\n",
      "angles: 107.201271  60.000006 107.201281\n",
      "Sites (4)\n",
      "  #  SP           a         b         c    magmom\n",
      "---  ----  --------  --------  --------  --------\n",
      "  0  Na    0         0         0                0\n",
      "  1  Sm    0.5       0.5       0.5              0\n",
      "  2  O     0.761869  0.285608  0.761869         0\n",
      "  3  O     0.238131  0.714392  0.238131         0\n",
      "Complete DOS for Full Formula (Na1 Sm1 O2)\n",
      "Reduced Formula: NaSmO2\n",
      "abc   :   5.973791   5.973791   5.973791\n",
      "angles:  34.402547  34.402547  34.402548\n",
      "Sites (4)\n",
      "  #  SP           a         b         c\n",
      "---  ----  --------  --------  --------\n",
      "  0  Na    0         0         0\n",
      "  1  Sm    0.5       0.5       0.5\n",
      "  2  O     0.238131  0.238131  0.238131\n",
      "  3  O     0.761869  0.761869  0.761869\n",
      "<pymatgen.electronic_structure.bandstructure.BandStructureSymmLine object at 0x7fb6d7d05550>\n"
     ]
    }
   ],
   "source": [
    "from pymatgen.io.cif import CifParser\n",
    "parser = CifParser(\"NaSmO2_mp-756034_symmetrized.cif\")\n",
    "from pymatgen.ext.matproj import MPRester\n",
    "with MPRester(\"blOWflU3npEF7GSb\") as m:\n",
    "\n",
    "    # Structure for material id\n",
    "    structure = m.get_structure_by_material_id(\"mp-756034\")\n",
    "\n",
    "    # Dos for material id\n",
    "    dos = m.get_dos_by_material_id(\"mp-756034\")\n",
    "\n",
    "    # Bandstructure for material id\n",
    "    bandstructure = m.get_bandstructure_by_material_id(\"mp-756034\")\n",
    "    \n",
    "    print(structure)\n",
    "    print(dos)\n",
    "    print(bandstructure)"
   ]
  },
  {
   "cell_type": "code",
   "execution_count": 25,
   "metadata": {},
   "outputs": [
    {
     "name": "stdout",
     "output_type": "stream",
     "text": [
      "Vecteurs de base du réseau direct : a= 5.973790689133635 b= 5.973790689133635 c= 5.973790689133635\n",
      "Vecteurs de base du réseau réciproque : a= 0.3321583232821047 b= 0.3321583232821047 c= 0.33215832328210465\n",
      "Type de maille : rhombohedral\n",
      "Système crystallin : trigonal\n",
      "Groupe ponctuel : -3m\n"
     ]
    }
   ],
   "source": [
    "#Tâche 5 : [NaSmO2] déterminer les vecteurs de bases des ses réseaux direct et\n",
    "#réciproque, son type de maille, son système cristallin, ainsi que son\n",
    "#groupe ponctuel.\n",
    "from pymatgen.io.cif import CifParser \n",
    "parser = CifParser(\"NaSmO2_mp-756034_symmetrized.cif\") #importe le fichier CIF\n",
    "from pymatgen.ext.matproj import MPRester \n",
    "from pymatgen.symmetry.analyzer import SpacegroupAnalyzer\n",
    "from pymatgen.symmetry.analyzer import Lattice\n",
    "with MPRester(\"blOWflU3npEF7GSb\") as m:\n",
    "\n",
    "# Crée un objet structure avec la structure du matériau NaSmO2\n",
    "    structure = m.get_structure_by_material_id(\"mp-756034\")\n",
    "#Soucis sur Material Project : cette ligne permet de faire en sorte que \n",
    "#la strtucture respecte a=b=c et alpha=beta=gamme\n",
    "    new_s=SpacegroupAnalyzer(structure).get_primitive_standard_structure()\n",
    "\n",
    "    #Vecteurs de base du réseau direct\n",
    "    vect_direct_a = new_s.lattice.a\n",
    "    vect_direct_b = new_s.lattice.b\n",
    "    vect_direct_c = new_s.lattice.c\n",
    "    \n",
    "    #Vecteurs de base du réseau réciproque\n",
    "    vect_reciproque_a = new_s.lattice.reciprocal_lattice_crystallographic.a\n",
    "    vect_reciproque_b = new_s.lattice.reciprocal_lattice_crystallographic.b\n",
    "    vect_reciproque_c = new_s.lattice.reciprocal_lattice_crystallographic.c\n",
    "\n",
    "    #Type de maille\n",
    "    type_maille = SpacegroupAnalyzer(new_s).get_lattice_type()\n",
    "    \n",
    "    #Système crystallin\n",
    "    syst_cryst = SpacegroupAnalyzer(new_s).get_crystal_system()\n",
    "    \n",
    "    #Groupe ponctuel\n",
    "    groupe_ponct = SpacegroupAnalyzer(new_s).get_point_group_symbol()\n",
    "\n",
    "\n",
    "\n",
    "    print(\"Vecteurs de base du réseau direct :\",\"a =\", vect_direct_a,\"b =\", vect_direct_b, \"c =\",vect_direct_c)\n",
    "    print(\"Vecteurs de base du réseau réciproque :\",\"a =\", vect_reciproque_a,\"b =\", vect_reciproque_b, \"c =\", vect_reciproque_c)\n",
    "    print(\"Type de maille :\", type_maille)\n",
    "    print(\"Système crystallin :\", syst_cryst)\n",
    "    print(\"Groupe ponctuel :\", groupe_ponct)\n"
   ]
  },
  {
   "cell_type": "code",
   "execution_count": null,
   "metadata": {},
   "outputs": [],
   "source": []
  }
 ],
 "metadata": {
  "kernelspec": {
   "display_name": "Python 3",
   "language": "python",
   "name": "python3"
  },
  "language_info": {
   "codemirror_mode": {
    "name": "ipython",
    "version": 3
   },
   "file_extension": ".py",
   "mimetype": "text/x-python",
   "name": "python",
   "nbconvert_exporter": "python",
   "pygments_lexer": "ipython3",
   "version": "3.6.8"
  }
 },
 "nbformat": 4,
 "nbformat_minor": 2
}
