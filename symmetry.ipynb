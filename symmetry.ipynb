{
 "cells": [
  {
   "cell_type": "code",
   "execution_count": 12,
   "metadata": {},
   "outputs": [
    {
     "name": "stdout",
     "output_type": "stream",
     "text": [
      "L'atome initialement situé en [0.67, 0.33, 0.33] suite à l'opétation Rot:\n",
      "[[-1.  0.  0.]\n",
      " [ 0. -1.  0.]\n",
      " [ 0.  0. -1.]]\n",
      "tau\n",
      "[0. 0. 0.] se trouve en [-0.67 -0.33 -0.33]\n",
      "L'atome initialement situé en [0.67, 0.33, 0.83] suite à l'opétation Rot:\n",
      "[[ 0.  1.  0.]\n",
      " [-1.  1.  0.]\n",
      " [ 0.  0. -1.]]\n",
      "tau\n",
      "[0. 0. 0.] se trouve en [ 0.33 -0.34 -0.83]\n",
      "L'atome initialement situé en [0.67, 0.33, 0.57] suite à l'opétation Rot:\n",
      "[[ 0. -1.  0.]\n",
      " [-1.  0.  0.]\n",
      " [ 0.  0.  1.]]\n",
      "tau\n",
      "[0. 0. 0.] se trouve en [-0.33 -0.67  0.57]\n"
     ]
    }
   ],
   "source": [
    "#Tâche 6 : [NaSmO2] étudier l’effet de 3 éléments de symétrie différents,\n",
    "#chacun pour 1 atome différent\n",
    "\n",
    "from pymatgen.io.cif import CifParser \n",
    "parser = CifParser(\"NaSmO2_mp-756034_symmetrized.cif\") #importe le fichier CIF\n",
    "from pymatgen.ext.matproj import MPRester \n",
    "from pymatgen.core.operations import SymmOp #importe la classe SymmOp qui va permettre d'effectuer les opérations de symétrie\n",
    "\n",
    "#Création de 3 opérations de symétrie : \n",
    "    operation1=SymmOp.from_xyz_string('-x,-y,-z') #opération d'inversion\n",
    "    operation2=SymmOp.from_xyz_string('y,-x+y,-z') #centre d'inversion situé en (0,0,0)\n",
    "    operation3=SymmOp.from_xyz_string('-y,-x,z')#opération de réflexion par rapport à un plan miroir  \n",
    " \n",
    "#Choix de 3 atomes différents de NaSm02 :\n",
    "    Na=[0.67,0.33,0.33]\n",
    "    Sm=[0.67,0.33,0.83]\n",
    "    O=[0.67,0.33,0.57]\n",
    " \n",
    "#Application de ces opérations sur les différents atomes : \n",
    "    new_Na=operation1.operate(Na)\n",
    "    new_Sm=operation2.operate(Sm)\n",
    "    new_O=operation3.operate(O)\n",
    " \n",
    "#Affiche les résultats : \n",
    "\n",
    "    print(\"L'atome initialement situé en\", Na, \"suite à l'opétation\",operation1, \"se trouve en\",new_Na)\n",
    "    print(\"L'atome initialement situé en\", Sm, \"suite à l'opétation\",operation2, \"se trouve en\",new_Sm)\n",
    "    print(\"L'atome initialement situé en\", O, \"suite à l'opétation\",operation3, \"se trouve en\",new_O)\n",
    " "
   ]
  },
  {
   "cell_type": "code",
   "execution_count": null,
   "metadata": {},
   "outputs": [],
   "source": []
  }
 ],
 "metadata": {
  "kernelspec": {
   "display_name": "Python 3",
   "language": "python",
   "name": "python3"
  },
  "language_info": {
   "codemirror_mode": {
    "name": "ipython",
    "version": 3
   },
   "file_extension": ".py",
   "mimetype": "text/x-python",
   "name": "python",
   "nbconvert_exporter": "python",
   "pygments_lexer": "ipython3",
   "version": "3.6.8"
  }
 },
 "nbformat": 4,
 "nbformat_minor": 2
}
